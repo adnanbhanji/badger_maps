{
 "cells": [
  {
   "cell_type": "code",
   "execution_count": 93,
   "id": "58103df1",
   "metadata": {},
   "outputs": [
    {
     "name": "stdout",
     "output_type": "stream",
     "text": [
      "Adnan Bhanji -> Test Version 1\n"
     ]
    }
   ],
   "source": [
    "print(\"Adnan Bhanji -> Test Version 1\")"
   ]
  },
  {
   "cell_type": "code",
   "execution_count": 99,
   "id": "74e67490",
   "metadata": {},
   "outputs": [
    {
     "name": "stdout",
     "output_type": "stream",
     "text": [
      "The customer with the latest checking date of is Bjorn Ostberg who arrived on the 24/04/2018\n",
      "The customer with the earliest checking date of is Anselmo Ortega who arrived on the 12/11/2017\n"
     ]
    }
   ],
   "source": [
    "# Firstly, we import the pandas and time library\n",
    "import pandas as pd\n",
    "import time\n",
    "\n",
    "# We then import the csv file and save it to a variable\n",
    "dataframe = pd.read_csv(r'C:\\Users\\Adnan B\\Desktop\\Internship_Application\\Sample test file - Sheet1.csv')\n",
    "\n",
    "# Now, we convert the columns that we will work with later on to lists, and assign it to a variable. \n",
    "FirstNameList = dataframe[\"First Name\"].to_list()\n",
    "LastNameList = dataframe[\"Last Name\"].to_list()\n",
    "JobList = dataframe[\"Job\"].to_list()\n",
    "dateList = dataframe[\"Last Check-In Date\"].to_list()\n",
    "CompanyList = dataframe[\"Company\"].to_list()\n",
    "\n",
    "# Filtering out the null date values, so that we can sort it later on. \n",
    "newDateList = [x for x in dateList if pd.isnull(x) is False]\n",
    "\n",
    "earliest = newDateList[0]\n",
    "latest = newDateList[0]\n",
    "\n",
    "# Using for loop to get the earliest and latest dates.\n",
    "for i in range(len(newDateList)):\n",
    "    formatted_date1 = time.strptime(earliest, \"%d/%m/%Y\")\n",
    "    formatted_date2 = time.strptime(latest, \"%d/%m/%Y\")\n",
    "    formatted_date3 = time.strptime(newDateList[i], \"%d/%m/%Y\")\n",
    "\n",
    "    if formatted_date1 > formatted_date3:\n",
    "        earliest = newDateList[i]\n",
    "\n",
    "    if formatted_date2 < formatted_date3:\n",
    "        latest = newDateList[i]\n",
    "\n",
    "# Getting index of earliest and latest entries\n",
    "idxE = dateList.index(earliest)\n",
    "idxL = dateList.index(latest)\n",
    "\n",
    "# Printing the latest customer, followed by the earliest, using the variables and index to refer to the specific position. \n",
    "print(\"The customer with the latest checking date of is \" + FirstNameList[idxL] + \" \" + LastNameList[idxL] +\n",
    "      \" who arrived on the \" + latest)\n",
    "\n",
    "print(\"The customer with the earliest checking date of is \" + FirstNameList[idxE] + \" \" + LastNameList[idxE] +\n",
    "      \" who arrived on the \" + earliest)\n",
    "\n",
    "# We can see that the latest check in was Bjorn which is true according to the dataframe.\n",
    "# We can also see that the earliest check in was Anselmo which is true according to the dataframe"
   ]
  },
  {
   "cell_type": "code",
   "execution_count": 95,
   "id": "18c448ee",
   "metadata": {},
   "outputs": [
    {
     "name": "stdout",
     "output_type": "stream",
     "text": [
      "The customers sorted alphabetically are: \n",
      "\n",
      "André Citröen\n",
      "Anselmo Ortega\n",
      "Bjorn Ostberg\n",
      "Federico García\n",
      "Jake Robins\n",
      "Lola Rivers\n",
      "Markus Dupont\n",
      "Paul Hudson\n",
      "Ángel Ganivet\n"
     ]
    }
   ],
   "source": [
    "# Here we are aiming to get list of sorted full names.\n",
    "# We begin by filtering out the null values, as they cannot be sorted.\n",
    "newFirstNameList = [x for x in FirstNameList if pd.isnull(x) is False]\n",
    "# We then sort it and save it to a new variable.\n",
    "sortedFirstNameList = sorted(newFirstNameList)\n",
    "\n",
    "# We then make an empty list for sorted last names that we will add onto later.\n",
    "sortedLastNameList = []\n",
    "# Loop through the sorted first name list to get the last name that corresponds to the index of first name from the initial\n",
    "# first name list we had, 'FirstNameList'.\n",
    "for i in sortedFirstNameList:\n",
    "    sortedLastNameList.append(LastNameList[FirstNameList.index(i)])\n",
    "# Now we make a list for the full name.\n",
    "FullNameList = []\n",
    "# We loop through to combine the first name with the last name corresponding to the same index. \n",
    "for c in range(len(sortedFirstNameList)):\n",
    "    FullNameList.append(sortedFirstNameList[c] + \" \" + sortedLastNameList[c])\n",
    "# Finally we print the names in list format. \n",
    "print(\"The customers sorted alphabetically are: \\n\")\n",
    "print(*FullNameList, sep=\"\\n\")"
   ]
  },
  {
   "cell_type": "code",
   "execution_count": 96,
   "id": "de49f395",
   "metadata": {},
   "outputs": [
    {
     "name": "stdout",
     "output_type": "stream",
     "text": [
      "The sorted jobs corresponding to their respective companies are listed below.\n",
      "\n",
      "{'Job': 'Actor', 'Company': 'Wood SA'}\n",
      "{'Job': 'Assistant', 'Company': 'Fabric SA'}\n",
      "{'Job': 'CEO', 'Company': 'Fabric SA'}\n",
      "{'Job': 'Dentist', 'Company': 'Badger Maps'}\n",
      "{'Job': 'Musician', 'Company': 'Fabric SA'}\n",
      "{'Job': 'Policeman', 'Company': 'Wood SA'}\n",
      "{'Job': 'Postman', 'Company': 'Badger Maps'}\n",
      "{'Job': 'Salesman', 'Company': 'Badger Maps'}\n",
      "{'Job': 'Salesman', 'Company': 'Fabric SA'}\n"
     ]
    }
   ],
   "source": [
    "# Here we just sort the jobs in alphabetical order. \n",
    "jobList = [] # Create a new list\n",
    "# Loop through the job and the company column and save the data to variables. \n",
    "for o in range(dataframe.shape[1]):\n",
    "    tempJob = dataframe['Job'][o]\n",
    "    tempComp = dataframe['Company'][o]\n",
    "# We then check for missing values and if there are, we end the current iteration.\n",
    "    if pd.isna(tempJob):\n",
    "        continue\n",
    "# If not, we append the job and company to jobList.\n",
    "    else:\n",
    "        jobList.append({'Job': tempJob, 'Company': tempComp})\n",
    "\n",
    "# Finally, we sort by Job as we are required to do. \n",
    "\n",
    "jobList = sorted(jobList, key=lambda k: k['Job'])\n",
    "print(\"The sorted jobs corresponding to their respective companies are listed below.\\n\")\n",
    "# Finally, we loop through and print all the values.\n",
    "\n",
    "for i in jobList:\n",
    "    print (i)"
   ]
  },
  {
   "cell_type": "code",
   "execution_count": 97,
   "id": "fa8db3e1",
   "metadata": {},
   "outputs": [
    {
     "name": "stdout",
     "output_type": "stream",
     "text": [
      "The following required columns (Street, Zip, City, Last Check-in Date and Company) are all part of the file.\n"
     ]
    }
   ],
   "source": [
    "# For the final requirement to check if the columns are in the files, we do the following.  \n",
    "\n",
    "if set(['Street', 'Zip', 'City', 'Last Check-In Date', 'Company']).issubset(dataframe.columns):\n",
    "    print(\"The following required columns (Street, Zip, City, Last Check-in Date and Company) are all part of the file.\")\n",
    "else:\n",
    "    print(\"Please make sure the following columns (Street, Zip, City, Last Check-in Date and Company) exist in the file\")"
   ]
  }
 ],
 "metadata": {
  "kernelspec": {
   "display_name": "Python 3 (ipykernel)",
   "language": "python",
   "name": "python3"
  },
  "language_info": {
   "codemirror_mode": {
    "name": "ipython",
    "version": 3
   },
   "file_extension": ".py",
   "mimetype": "text/x-python",
   "name": "python",
   "nbconvert_exporter": "python",
   "pygments_lexer": "ipython3",
   "version": "3.9.7"
  }
 },
 "nbformat": 4,
 "nbformat_minor": 5
}
